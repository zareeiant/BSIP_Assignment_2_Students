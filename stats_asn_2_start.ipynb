{
 "cells": [
  {
   "cell_type": "code",
   "execution_count": null,
   "metadata": {},
   "outputs": [],
   "source": [
    "#import thinkplot\n",
    "#import thinkstats2\n",
    "import pandas as pd\n",
    "import numpy as np\n",
    "import math\n",
    "import scipy.stats as ss\n",
    "import thinkplot\n",
    "import thinkstats2\n",
    "\n",
    "##Seaborn for fancy plots. \n",
    "import matplotlib.pyplot as plt\n",
    "import seaborn as sns\n",
    "plt.rcParams[\"figure.figsize\"] = (15,5)"
   ]
  },
  {
   "cell_type": "markdown",
   "metadata": {},
   "source": [
    "<h1>Assignment 2: Life Expectancy and You!</h1>\n",
    "\n",
    "<b>Instructions:</b>\n",
    "<ul>\n",
    "<li>Use the worksheet below to act as a guide to exploring and examining the data in the dataset.\n",
    "<li>Try to make things easy to read. Look at the formatting stuff above. \n",
    "<li>As long as you do what is asked, you can do things in many different ways. You may need to do a little searching. \n",
    "</ul>\n",
    "\n",
    "### Please Use Formatting to Make it Clear What I Should be Looking at! Please!!! I Beg You!!!"
   ]
  },
  {
   "cell_type": "code",
   "execution_count": null,
   "metadata": {},
   "outputs": [],
   "source": [
    "#Load data and do some cleanup before starting\n",
    "#Please don't change this stuff. \n",
    "dfLE = pd.read_csv(\"led.csv\")\n",
    "dfLE.rename(columns={\"Status\":\"isDeveloped\", }, inplace=True)\n",
    "dfLE[\"isDeveloped\"].replace(('Developed', 'Developing'), (1, 0), inplace=True)\n",
    "dfLE = dfLE.drop(columns={\"Year\", \"Incomecompositionofresources\", \"thinness5-9years\", \"HIV/AIDS\", \"percentageexpenditure\", \"Totalexpenditure\", \"thinness1-19years\"})\n",
    "dfLE = dfLE.groupby(\"Country\", as_index=False).mean()\n",
    "df = dfLE.copy()                                        # Create duplicate of data\n",
    "df.replace([np.inf, - np.inf], np.nan, inplace = True)  # Exchange inf by NaN\n",
    "df.dropna(inplace=True)\n",
    "df.head()\n"
   ]
  },
  {
   "cell_type": "markdown",
   "metadata": {},
   "source": [
    "<h2>Part 1: Add a column for GDP per Capita (5pts)</h2>\n",
    "\n",
    "Show print the labels along with just that column. Print 10 random rows of that data. \n",
    "\n",
    "Note: you'll have to look at the units to ensure you get it right. "
   ]
  },
  {
   "cell_type": "code",
   "execution_count": null,
   "metadata": {},
   "outputs": [],
   "source": [
    "print(df.columns)\n",
    "df.sample(10)"
   ]
  },
  {
   "cell_type": "code",
   "execution_count": null,
   "metadata": {},
   "outputs": [],
   "source": [
    "Population=df['Population']\n",
    "Population=np.log(Population)\n",
    "Population.head()"
   ]
  },
  {
   "cell_type": "code",
   "execution_count": null,
   "metadata": {},
   "outputs": [],
   "source": [
    "GDP=df['GDP']\n",
    "lnGDP=np.log(GDP)\n",
    "lnGDP.head()"
   ]
  },
  {
   "cell_type": "code",
   "execution_count": null,
   "metadata": {},
   "outputs": [],
   "source": [
    "#Part 1\n",
    "df['GDPPerCapita']=GDP/Population\n",
    "df.head()"
   ]
  },
  {
   "cell_type": "markdown",
   "metadata": {},
   "source": [
    "### Part 2: Print a visualization of each distribution. Both regular (density) and cumulative. (15pts)\n",
    "\n",
    "Print each distribution is some type of visualization, also print the cumulative distribution. \n",
    "<ul>\n",
    "<li>5 points are for using some visualization that is effective.\n",
    "<li>5 points for formatting things in a nice layout. Hint: for whatever chart you use, look into some formatting options. Think of what to try to Google for an example for printing multiple charts, a grid of charts, etc... and try to adapt one to yours. There is also a way to do it using some thinkstats/thinkplot stuff. \n",
    "<li><b>5 points are for doing it in an efficient way - just listing off each column is lots of typing... Remember, the #1 trait of programmers is laziness with respect to repetitive tasks. If we are doing the same thing over and over with tiny changes, try to think of a condensed way to do this...</b>\n",
    "</ul>"
   ]
  },
  {
   "cell_type": "code",
   "execution_count": null,
   "metadata": {},
   "outputs": [],
   "source": [
    "df.hist()"
   ]
  },
  {
   "cell_type": "code",
   "execution_count": null,
   "metadata": {},
   "outputs": [],
   "source": [
    "from cProfile import label\n",
    "\n",
    "\n",
    "col1=['isDeveloped','Alcohol','Schooling']\n",
    "\n",
    "i=0\n",
    "while i < len(col1):\n",
    "    h = col1[i]\n",
    "    hist=thinkstats2.Hist(round(df[h],0))\n",
    "    cdf = thinkstats2.Cdf(df[h])\n",
    "    thinkplot.PrePlot(2,1,2)\n",
    "    thinkplot.Hist(hist)\n",
    "    thinkplot.Config(xlabel=h)\n",
    "    thinkplot.subplot(2)\n",
    "    thinkplot.Cdf(cdf)\n",
    "    thinkplot.Config(xlabel=h)\n",
    "    thinkplot.Show(xlabel=h)\n",
    "    i = i + 1\n",
    "\n",
    "\n"
   ]
  },
  {
   "cell_type": "code",
   "execution_count": null,
   "metadata": {},
   "outputs": [],
   "source": [
    "col2=['HepatitisB','BMI','Polio','Diphtheria', 'Lifeexpectancy']\n",
    "i=0\n",
    "while i < len(col2):\n",
    "    h = col2[i]\n",
    "    hist=thinkstats2.Hist(round(df[h],-1))\n",
    "    cdf = thinkstats2.Cdf(df[h])\n",
    "    thinkplot.PrePlot(2,1,2)\n",
    "    thinkplot.Hist(hist)\n",
    "    thinkplot.Config(xlabel=h)\n",
    "    thinkplot.subplot(2)\n",
    "    thinkplot.Cdf(cdf)\n",
    "    thinkplot.Config(xlabel=h)\n",
    "    thinkplot.Show()\n",
    "    i = i + 1"
   ]
  },
  {
   "cell_type": "code",
   "execution_count": null,
   "metadata": {},
   "outputs": [],
   "source": [
    "col3=['AdultMortality','infantdeaths','under-fivedeaths']\n",
    "i=0\n",
    "while i < len(col3):\n",
    "    h = col3[i]\n",
    "    hist=thinkstats2.Hist(round(df[h],-2))\n",
    "    cdf = thinkstats2.Cdf(df[h])\n",
    "    thinkplot.PrePlot(2,1,2)\n",
    "    thinkplot.Hist(hist)\n",
    "    thinkplot.Config(xlabel=h)\n",
    "    thinkplot.subplot(2)\n",
    "    thinkplot.Cdf(cdf)\n",
    "    thinkplot.Config(xlabel=h)\n",
    "    thinkplot.Show()\n",
    "    i = i + 1\n"
   ]
  },
  {
   "cell_type": "code",
   "execution_count": null,
   "metadata": {},
   "outputs": [],
   "source": [
    "col4=['Measles']\n",
    "i=0\n",
    "while i < len(col4):\n",
    "    h = col4[i]\n",
    "    hist=thinkstats2.Hist(round(df[h],-4))\n",
    "    cdf = thinkstats2.Cdf(df[h])\n",
    "    thinkplot.PrePlot(2,1,2)\n",
    "    thinkplot.Hist(hist)\n",
    "    thinkplot.Config(xlabel=h)\n",
    "    thinkplot.subplot(2)\n",
    "    thinkplot.Cdf(cdf)\n",
    "    thinkplot.Config(xlabel=h)\n",
    "    thinkplot.Show()\n",
    "    i = i + 1"
   ]
  },
  {
   "cell_type": "code",
   "execution_count": null,
   "metadata": {},
   "outputs": [],
   "source": [
    "col5=['GDP','Population','GDPPerCapita']\n",
    "i=0\n",
    "while i < len(col5):\n",
    "    h = (col5[i])\n",
    "    data = pd.Series(np.log(df[h]))\n",
    "    hist=thinkstats2.Hist(round(data,0))\n",
    "    cdf = thinkstats2.Cdf(df[h])\n",
    "    thinkplot.PrePlot(2,1,2)\n",
    "    thinkplot.Hist(hist)\n",
    "    thinkplot.Config(xlabel=h)\n",
    "    thinkplot.subplot(2)\n",
    "    thinkplot.Cdf(cdf)\n",
    "    thinkplot.Config(xlabel=h)\n",
    "    thinkplot.Show()\n",
    "    i = i + 1"
   ]
  },
  {
   "cell_type": "markdown",
   "metadata": {},
   "source": [
    "### Create an analytical distribution for SCHOOLING, and use it for a couple of things. (20pts)\n",
    "\n",
    "<ul>\n",
    "<li>5 points are for choosing an appropriate distribution. Please state it clearly somewhere.\n",
    "<li>10 points are for creating and visualizing the distribution. Do it <b>without</b> using a fit() method. Plot the emperical data on the same graph as the analytical distribution. \n",
    "<li>5 points are for using the distribution to predict the percentage of that have a schooling level within 1 year of Canada. \n",
    "</ul>"
   ]
  },
  {
   "cell_type": "code",
   "execution_count": null,
   "metadata": {},
   "outputs": [],
   "source": [
    "k2, p=ss.normaltest(df[\"Schooling\"])\n",
    "p"
   ]
  },
  {
   "cell_type": "markdown",
   "metadata": {},
   "source": [
    "we can not reject the hypothesis that the schooling data is normally distributed"
   ]
  },
  {
   "cell_type": "code",
   "execution_count": null,
   "metadata": {},
   "outputs": [],
   "source": [
    "#Analytical for Schooling\n",
    "thinkstats2.NormalProbabilityPlot(df[\"Schooling\"])\n"
   ]
  },
  {
   "cell_type": "code",
   "execution_count": null,
   "metadata": {},
   "outputs": [],
   "source": [
    "mu = df[\"Schooling\"].mean()\n",
    "sigma = df[\"Schooling\"].std()\n",
    "normz = ss.norm(mu, sigma)"
   ]
  },
  {
   "cell_type": "code",
   "execution_count": null,
   "metadata": {},
   "outputs": [],
   "source": [
    "sns.histplot(data=normz.rvs(100), binwidth=1,color='red', stat=\"density\", kde=True, element=\"poly\",fill=False)\n",
    "sns.histplot(data=df[\"Schooling\"], binwidth=1, color=\"blue\", stat=\"density\")\n",
    "plt.axvline(mu, color=\"green\")"
   ]
  },
  {
   "cell_type": "code",
   "execution_count": null,
   "metadata": {},
   "outputs": [],
   "source": [
    "percent_above=normz.cdf(16.875)\n",
    "percent_below=normz.cdf(14.875)\n",
    "range=percent_above-percent_below\n",
    "print('The percentage of that have schooling level within  1 year of canada is:', round(range*100,2))\n"
   ]
  },
  {
   "cell_type": "markdown",
   "metadata": {},
   "source": [
    "### Part 3: Create another analytical distribution for GDP per Capita (20pts)\n",
    "\n",
    "<ul>\n",
    "<li>5 points are for choosing an appropriate distribution. Please state it clearly somewhere.\n",
    "<li>10 points are for creating and visualizing it alongside the emperical. You have free reign on how. \n",
    "<li>5 points are for using the analytical distribution to evaluate the quality of your GDP per capita metric - does it appear accurate? Why or why not?\n",
    "<li>If you've judged GDP per cap to be unreliable, drop it. \n",
    "</ul>"
   ]
  },
  {
   "cell_type": "code",
   "execution_count": null,
   "metadata": {},
   "outputs": [],
   "source": [
    "thinkstats2.NormalProbabilityPlot(np.log(df[\"GDPPerCapita\"]))"
   ]
  },
  {
   "cell_type": "markdown",
   "metadata": {},
   "source": [
    "This data fits a lognormal distribution model"
   ]
  },
  {
   "cell_type": "code",
   "execution_count": null,
   "metadata": {},
   "outputs": [],
   "source": [
    "\n",
    "log_GPC=np.log(df[\"GDPPerCapita\"])\n",
    "cdf_GPC=thinkstats2.Cdf(log_GPC)\n",
    "thinkplot.Cdf(cdf_GPC) \n",
    "mu, sigma = log_GPC.mean(), log_GPC.std()\n",
    "xs, ps = thinkstats2.RenderNormalCdf(mu, sigma, low=0, high=30)\n",
    "thinkplot.Plot(xs, ps, label='model', color='red')\n",
    "thinkplot.Config(xlabel='log10 GDPPerCapita', ylabel='CDF', loc='lower right')\n"
   ]
  },
  {
   "cell_type": "markdown",
   "metadata": {},
   "source": [
    "The analytical lognormal distribution model seem to accurately represent the GDPPerCapita since the graphs perfectly match each other"
   ]
  },
  {
   "cell_type": "markdown",
   "metadata": {},
   "source": [
    "### Part 4: Visually identify correlations. Separate developed and not developed countries is some way. (15pts)\n",
    "\n",
    "<ul>\n",
    "<li>5 points are for effectively and clearly showing the visualizations used to evaluate correlations.\n",
    "<li>10 points are for, in the process of visualizing, remove outliers that confound correlations. List outlier \"filters\" you used and justify why - was the data an error, a real value that is just way out of line, or somethingn else? Remember, you're trying to find things that have correlations with each other. Looking at a correlation between home size and income may not benefit from Jeff Bezos being included. It may be helpful to look at the results and revise. \n",
    "</ul>"
   ]
  },
  {
   "cell_type": "code",
   "execution_count": null,
   "metadata": {},
   "outputs": [],
   "source": [
    "sns.pairplot(df, hue=\"isDeveloped\", kind=\"reg\")"
   ]
  },
  {
   "cell_type": "code",
   "execution_count": null,
   "metadata": {},
   "outputs": [],
   "source": [
    "\n",
    "df=df[df['infantdeaths']<200]\n",
    "df=df[df['under-fivedeaths']<200]\n",
    "df=df[df['Measles']<10000]\n",
    "df=df[df['AdultMortality']<500]\n",
    "df=df[df['GDP']<2.0e+11]\n",
    "df=df[df['Population']<1e+07]\n",
    "\n"
   ]
  },
  {
   "cell_type": "markdown",
   "metadata": {},
   "source": [
    "All these columns were infulenced by outliers that wer way out of line compared to rest of the data. "
   ]
  },
  {
   "cell_type": "code",
   "execution_count": 97,
   "metadata": {},
   "outputs": [
    {
     "ename": "KeyboardInterrupt",
     "evalue": "",
     "output_type": "error",
     "traceback": [
      "\u001b[1;31m---------------------------------------------------------------------------\u001b[0m",
      "\u001b[1;31mKeyboardInterrupt\u001b[0m                         Traceback (most recent call last)",
      "\u001b[1;32mc:\\Users\\taraz\\OneDrive\\Documents\\3450\\BSIP_Assignment_2_Students\\stats_asn_2_start.ipynb Cell 33\u001b[0m in \u001b[0;36m<cell line: 1>\u001b[1;34m()\u001b[0m\n\u001b[1;32m----> <a href='vscode-notebook-cell:/c%3A/Users/taraz/OneDrive/Documents/3450/BSIP_Assignment_2_Students/stats_asn_2_start.ipynb#X43sZmlsZQ%3D%3D?line=0'>1</a>\u001b[0m sns\u001b[39m.\u001b[39;49mpairplot(df,dropna\u001b[39m=\u001b[39;49m\u001b[39mTrue\u001b[39;49;00m,hue\u001b[39m=\u001b[39;49m\u001b[39m\"\u001b[39;49m\u001b[39misDeveloped\u001b[39;49m\u001b[39m\"\u001b[39;49m,kind\u001b[39m=\u001b[39;49m\u001b[39m\"\u001b[39;49m\u001b[39mreg\u001b[39;49m\u001b[39m\"\u001b[39;49m)\n\u001b[0;32m      <a href='vscode-notebook-cell:/c%3A/Users/taraz/OneDrive/Documents/3450/BSIP_Assignment_2_Students/stats_asn_2_start.ipynb#X43sZmlsZQ%3D%3D?line=1'>2</a>\u001b[0m plt\u001b[39m.\u001b[39mshow()\n",
      "File \u001b[1;32mc:\\Users\\taraz\\anaconda3\\lib\\site-packages\\seaborn\\_decorators.py:46\u001b[0m, in \u001b[0;36m_deprecate_positional_args.<locals>.inner_f\u001b[1;34m(*args, **kwargs)\u001b[0m\n\u001b[0;32m     36\u001b[0m     warnings\u001b[39m.\u001b[39mwarn(\n\u001b[0;32m     37\u001b[0m         \u001b[39m\"\u001b[39m\u001b[39mPass the following variable\u001b[39m\u001b[39m{}\u001b[39;00m\u001b[39m as \u001b[39m\u001b[39m{}\u001b[39;00m\u001b[39mkeyword arg\u001b[39m\u001b[39m{}\u001b[39;00m\u001b[39m: \u001b[39m\u001b[39m{}\u001b[39;00m\u001b[39m. \u001b[39m\u001b[39m\"\u001b[39m\n\u001b[0;32m     38\u001b[0m         \u001b[39m\"\u001b[39m\u001b[39mFrom version 0.12, the only valid positional argument \u001b[39m\u001b[39m\"\u001b[39m\n\u001b[1;32m   (...)\u001b[0m\n\u001b[0;32m     43\u001b[0m         \u001b[39mFutureWarning\u001b[39;00m\n\u001b[0;32m     44\u001b[0m     )\n\u001b[0;32m     45\u001b[0m kwargs\u001b[39m.\u001b[39mupdate({k: arg \u001b[39mfor\u001b[39;00m k, arg \u001b[39min\u001b[39;00m \u001b[39mzip\u001b[39m(sig\u001b[39m.\u001b[39mparameters, args)})\n\u001b[1;32m---> 46\u001b[0m \u001b[39mreturn\u001b[39;00m f(\u001b[39m*\u001b[39m\u001b[39m*\u001b[39mkwargs)\n",
      "File \u001b[1;32mc:\\Users\\taraz\\anaconda3\\lib\\site-packages\\seaborn\\axisgrid.py:2143\u001b[0m, in \u001b[0;36mpairplot\u001b[1;34m(data, hue, hue_order, palette, vars, x_vars, y_vars, kind, diag_kind, markers, height, aspect, corner, dropna, plot_kws, diag_kws, grid_kws, size)\u001b[0m\n\u001b[0;32m   2141\u001b[0m \u001b[39melif\u001b[39;00m kind \u001b[39m==\u001b[39m \u001b[39m\"\u001b[39m\u001b[39mreg\u001b[39m\u001b[39m\"\u001b[39m:\n\u001b[0;32m   2142\u001b[0m     \u001b[39mfrom\u001b[39;00m \u001b[39m.\u001b[39;00m\u001b[39mregression\u001b[39;00m \u001b[39mimport\u001b[39;00m regplot  \u001b[39m# Avoid circular import\u001b[39;00m\n\u001b[1;32m-> 2143\u001b[0m     plotter(regplot, \u001b[39m*\u001b[39m\u001b[39m*\u001b[39mplot_kws)\n\u001b[0;32m   2144\u001b[0m \u001b[39melif\u001b[39;00m kind \u001b[39m==\u001b[39m \u001b[39m\"\u001b[39m\u001b[39mkde\u001b[39m\u001b[39m\"\u001b[39m:\n\u001b[0;32m   2145\u001b[0m     \u001b[39mfrom\u001b[39;00m \u001b[39m.\u001b[39;00m\u001b[39mdistributions\u001b[39;00m \u001b[39mimport\u001b[39;00m kdeplot  \u001b[39m# Avoid circular import\u001b[39;00m\n",
      "File \u001b[1;32mc:\\Users\\taraz\\anaconda3\\lib\\site-packages\\seaborn\\axisgrid.py:1389\u001b[0m, in \u001b[0;36mPairGrid.map_offdiag\u001b[1;34m(self, func, **kwargs)\u001b[0m\n\u001b[0;32m   1387\u001b[0m     \u001b[39mself\u001b[39m\u001b[39m.\u001b[39mmap_lower(func, \u001b[39m*\u001b[39m\u001b[39m*\u001b[39mkwargs)\n\u001b[0;32m   1388\u001b[0m     \u001b[39mif\u001b[39;00m \u001b[39mnot\u001b[39;00m \u001b[39mself\u001b[39m\u001b[39m.\u001b[39m_corner:\n\u001b[1;32m-> 1389\u001b[0m         \u001b[39mself\u001b[39m\u001b[39m.\u001b[39mmap_upper(func, \u001b[39m*\u001b[39m\u001b[39m*\u001b[39mkwargs)\n\u001b[0;32m   1390\u001b[0m \u001b[39melse\u001b[39;00m:\n\u001b[0;32m   1391\u001b[0m     indices \u001b[39m=\u001b[39m []\n",
      "File \u001b[1;32mc:\\Users\\taraz\\anaconda3\\lib\\site-packages\\seaborn\\axisgrid.py:1372\u001b[0m, in \u001b[0;36mPairGrid.map_upper\u001b[1;34m(self, func, **kwargs)\u001b[0m\n\u001b[0;32m   1361\u001b[0m \u001b[39m\"\"\"Plot with a bivariate function on the upper diagonal subplots.\u001b[39;00m\n\u001b[0;32m   1362\u001b[0m \n\u001b[0;32m   1363\u001b[0m \u001b[39mParameters\u001b[39;00m\n\u001b[1;32m   (...)\u001b[0m\n\u001b[0;32m   1369\u001b[0m \n\u001b[0;32m   1370\u001b[0m \u001b[39m\"\"\"\u001b[39;00m\n\u001b[0;32m   1371\u001b[0m indices \u001b[39m=\u001b[39m \u001b[39mzip\u001b[39m(\u001b[39m*\u001b[39mnp\u001b[39m.\u001b[39mtriu_indices_from(\u001b[39mself\u001b[39m\u001b[39m.\u001b[39maxes, \u001b[39m1\u001b[39m))\n\u001b[1;32m-> 1372\u001b[0m \u001b[39mself\u001b[39m\u001b[39m.\u001b[39m_map_bivariate(func, indices, \u001b[39m*\u001b[39m\u001b[39m*\u001b[39mkwargs)\n\u001b[0;32m   1373\u001b[0m \u001b[39mreturn\u001b[39;00m \u001b[39mself\u001b[39m\n",
      "File \u001b[1;32mc:\\Users\\taraz\\anaconda3\\lib\\site-packages\\seaborn\\axisgrid.py:1539\u001b[0m, in \u001b[0;36mPairGrid._map_bivariate\u001b[1;34m(self, func, indices, **kwargs)\u001b[0m\n\u001b[0;32m   1537\u001b[0m     \u001b[39mif\u001b[39;00m ax \u001b[39mis\u001b[39;00m \u001b[39mNone\u001b[39;00m:  \u001b[39m# i.e. we are in corner mode\u001b[39;00m\n\u001b[0;32m   1538\u001b[0m         \u001b[39mcontinue\u001b[39;00m\n\u001b[1;32m-> 1539\u001b[0m     \u001b[39mself\u001b[39m\u001b[39m.\u001b[39m_plot_bivariate(x_var, y_var, ax, func, \u001b[39m*\u001b[39m\u001b[39m*\u001b[39mkws)\n\u001b[0;32m   1540\u001b[0m \u001b[39mself\u001b[39m\u001b[39m.\u001b[39m_add_axis_labels()\n\u001b[0;32m   1542\u001b[0m \u001b[39mif\u001b[39;00m \u001b[39m\"\u001b[39m\u001b[39mhue\u001b[39m\u001b[39m\"\u001b[39m \u001b[39min\u001b[39;00m signature(func)\u001b[39m.\u001b[39mparameters:\n",
      "File \u001b[1;32mc:\\Users\\taraz\\anaconda3\\lib\\site-packages\\seaborn\\axisgrid.py:1548\u001b[0m, in \u001b[0;36mPairGrid._plot_bivariate\u001b[1;34m(self, x_var, y_var, ax, func, **kwargs)\u001b[0m\n\u001b[0;32m   1546\u001b[0m \u001b[39m\"\"\"Draw a bivariate plot on the specified axes.\"\"\"\u001b[39;00m\n\u001b[0;32m   1547\u001b[0m \u001b[39mif\u001b[39;00m \u001b[39m\"\u001b[39m\u001b[39mhue\u001b[39m\u001b[39m\"\u001b[39m \u001b[39mnot\u001b[39;00m \u001b[39min\u001b[39;00m signature(func)\u001b[39m.\u001b[39mparameters:\n\u001b[1;32m-> 1548\u001b[0m     \u001b[39mself\u001b[39m\u001b[39m.\u001b[39m_plot_bivariate_iter_hue(x_var, y_var, ax, func, \u001b[39m*\u001b[39m\u001b[39m*\u001b[39mkwargs)\n\u001b[0;32m   1549\u001b[0m     \u001b[39mreturn\u001b[39;00m\n\u001b[0;32m   1551\u001b[0m kwargs \u001b[39m=\u001b[39m kwargs\u001b[39m.\u001b[39mcopy()\n",
      "File \u001b[1;32mc:\\Users\\taraz\\anaconda3\\lib\\site-packages\\seaborn\\axisgrid.py:1621\u001b[0m, in \u001b[0;36mPairGrid._plot_bivariate_iter_hue\u001b[1;34m(self, x_var, y_var, ax, func, **kwargs)\u001b[0m\n\u001b[0;32m   1618\u001b[0m     kws[\u001b[39m\"\u001b[39m\u001b[39mlabel\u001b[39m\u001b[39m\"\u001b[39m] \u001b[39m=\u001b[39m label_k\n\u001b[0;32m   1620\u001b[0m \u001b[39mif\u001b[39;00m \u001b[39mstr\u001b[39m(func\u001b[39m.\u001b[39m\u001b[39m__module__\u001b[39m)\u001b[39m.\u001b[39mstartswith(\u001b[39m\"\u001b[39m\u001b[39mseaborn\u001b[39m\u001b[39m\"\u001b[39m):\n\u001b[1;32m-> 1621\u001b[0m     func(x\u001b[39m=\u001b[39mx, y\u001b[39m=\u001b[39my, \u001b[39m*\u001b[39m\u001b[39m*\u001b[39mkws)\n\u001b[0;32m   1622\u001b[0m \u001b[39melse\u001b[39;00m:\n\u001b[0;32m   1623\u001b[0m     func(x, y, \u001b[39m*\u001b[39m\u001b[39m*\u001b[39mkws)\n",
      "File \u001b[1;32mc:\\Users\\taraz\\anaconda3\\lib\\site-packages\\seaborn\\_decorators.py:46\u001b[0m, in \u001b[0;36m_deprecate_positional_args.<locals>.inner_f\u001b[1;34m(*args, **kwargs)\u001b[0m\n\u001b[0;32m     36\u001b[0m     warnings\u001b[39m.\u001b[39mwarn(\n\u001b[0;32m     37\u001b[0m         \u001b[39m\"\u001b[39m\u001b[39mPass the following variable\u001b[39m\u001b[39m{}\u001b[39;00m\u001b[39m as \u001b[39m\u001b[39m{}\u001b[39;00m\u001b[39mkeyword arg\u001b[39m\u001b[39m{}\u001b[39;00m\u001b[39m: \u001b[39m\u001b[39m{}\u001b[39;00m\u001b[39m. \u001b[39m\u001b[39m\"\u001b[39m\n\u001b[0;32m     38\u001b[0m         \u001b[39m\"\u001b[39m\u001b[39mFrom version 0.12, the only valid positional argument \u001b[39m\u001b[39m\"\u001b[39m\n\u001b[1;32m   (...)\u001b[0m\n\u001b[0;32m     43\u001b[0m         \u001b[39mFutureWarning\u001b[39;00m\n\u001b[0;32m     44\u001b[0m     )\n\u001b[0;32m     45\u001b[0m kwargs\u001b[39m.\u001b[39mupdate({k: arg \u001b[39mfor\u001b[39;00m k, arg \u001b[39min\u001b[39;00m \u001b[39mzip\u001b[39m(sig\u001b[39m.\u001b[39mparameters, args)})\n\u001b[1;32m---> 46\u001b[0m \u001b[39mreturn\u001b[39;00m f(\u001b[39m*\u001b[39m\u001b[39m*\u001b[39mkwargs)\n",
      "File \u001b[1;32mc:\\Users\\taraz\\anaconda3\\lib\\site-packages\\seaborn\\regression.py:863\u001b[0m, in \u001b[0;36mregplot\u001b[1;34m(x, y, data, x_estimator, x_bins, x_ci, scatter, fit_reg, ci, n_boot, units, seed, order, logistic, lowess, robust, logx, x_partial, y_partial, truncate, dropna, x_jitter, y_jitter, label, color, marker, scatter_kws, line_kws, ax)\u001b[0m\n\u001b[0;32m    861\u001b[0m scatter_kws[\u001b[39m\"\u001b[39m\u001b[39mmarker\u001b[39m\u001b[39m\"\u001b[39m] \u001b[39m=\u001b[39m marker\n\u001b[0;32m    862\u001b[0m line_kws \u001b[39m=\u001b[39m {} \u001b[39mif\u001b[39;00m line_kws \u001b[39mis\u001b[39;00m \u001b[39mNone\u001b[39;00m \u001b[39melse\u001b[39;00m copy\u001b[39m.\u001b[39mcopy(line_kws)\n\u001b[1;32m--> 863\u001b[0m plotter\u001b[39m.\u001b[39;49mplot(ax, scatter_kws, line_kws)\n\u001b[0;32m    864\u001b[0m \u001b[39mreturn\u001b[39;00m ax\n",
      "File \u001b[1;32mc:\\Users\\taraz\\anaconda3\\lib\\site-packages\\seaborn\\regression.py:370\u001b[0m, in \u001b[0;36m_RegressionPlotter.plot\u001b[1;34m(self, ax, scatter_kws, line_kws)\u001b[0m\n\u001b[0;32m    367\u001b[0m     \u001b[39mself\u001b[39m\u001b[39m.\u001b[39mscatterplot(ax, scatter_kws)\n\u001b[0;32m    369\u001b[0m \u001b[39mif\u001b[39;00m \u001b[39mself\u001b[39m\u001b[39m.\u001b[39mfit_reg:\n\u001b[1;32m--> 370\u001b[0m     \u001b[39mself\u001b[39;49m\u001b[39m.\u001b[39;49mlineplot(ax, line_kws)\n\u001b[0;32m    372\u001b[0m \u001b[39m# Label the axes\u001b[39;00m\n\u001b[0;32m    373\u001b[0m \u001b[39mif\u001b[39;00m \u001b[39mhasattr\u001b[39m(\u001b[39mself\u001b[39m\u001b[39m.\u001b[39mx, \u001b[39m\"\u001b[39m\u001b[39mname\u001b[39m\u001b[39m\"\u001b[39m):\n",
      "File \u001b[1;32mc:\\Users\\taraz\\anaconda3\\lib\\site-packages\\seaborn\\regression.py:413\u001b[0m, in \u001b[0;36m_RegressionPlotter.lineplot\u001b[1;34m(self, ax, kws)\u001b[0m\n\u001b[0;32m    411\u001b[0m \u001b[39m\"\"\"Draw the model.\"\"\"\u001b[39;00m\n\u001b[0;32m    412\u001b[0m \u001b[39m# Fit the regression model\u001b[39;00m\n\u001b[1;32m--> 413\u001b[0m grid, yhat, err_bands \u001b[39m=\u001b[39m \u001b[39mself\u001b[39;49m\u001b[39m.\u001b[39;49mfit_regression(ax)\n\u001b[0;32m    414\u001b[0m edges \u001b[39m=\u001b[39m grid[\u001b[39m0\u001b[39m], grid[\u001b[39m-\u001b[39m\u001b[39m1\u001b[39m]\n\u001b[0;32m    416\u001b[0m \u001b[39m# Get set default aesthetics\u001b[39;00m\n",
      "File \u001b[1;32mc:\\Users\\taraz\\anaconda3\\lib\\site-packages\\seaborn\\regression.py:221\u001b[0m, in \u001b[0;36m_RegressionPlotter.fit_regression\u001b[1;34m(self, ax, x_range, grid)\u001b[0m\n\u001b[0;32m    219\u001b[0m     yhat, yhat_boots \u001b[39m=\u001b[39m \u001b[39mself\u001b[39m\u001b[39m.\u001b[39mfit_logx(grid)\n\u001b[0;32m    220\u001b[0m \u001b[39melse\u001b[39;00m:\n\u001b[1;32m--> 221\u001b[0m     yhat, yhat_boots \u001b[39m=\u001b[39m \u001b[39mself\u001b[39;49m\u001b[39m.\u001b[39;49mfit_fast(grid)\n\u001b[0;32m    223\u001b[0m \u001b[39m# Compute the confidence interval at each grid point\u001b[39;00m\n\u001b[0;32m    224\u001b[0m \u001b[39mif\u001b[39;00m ci \u001b[39mis\u001b[39;00m \u001b[39mNone\u001b[39;00m:\n",
      "File \u001b[1;32mc:\\Users\\taraz\\anaconda3\\lib\\site-packages\\seaborn\\regression.py:242\u001b[0m, in \u001b[0;36m_RegressionPlotter.fit_fast\u001b[1;34m(self, grid)\u001b[0m\n\u001b[0;32m    239\u001b[0m \u001b[39mif\u001b[39;00m \u001b[39mself\u001b[39m\u001b[39m.\u001b[39mci \u001b[39mis\u001b[39;00m \u001b[39mNone\u001b[39;00m:\n\u001b[0;32m    240\u001b[0m     \u001b[39mreturn\u001b[39;00m yhat, \u001b[39mNone\u001b[39;00m\n\u001b[1;32m--> 242\u001b[0m beta_boots \u001b[39m=\u001b[39m algo\u001b[39m.\u001b[39;49mbootstrap(X, y,\n\u001b[0;32m    243\u001b[0m                             func\u001b[39m=\u001b[39;49mreg_func,\n\u001b[0;32m    244\u001b[0m                             n_boot\u001b[39m=\u001b[39;49m\u001b[39mself\u001b[39;49m\u001b[39m.\u001b[39;49mn_boot,\n\u001b[0;32m    245\u001b[0m                             units\u001b[39m=\u001b[39;49m\u001b[39mself\u001b[39;49m\u001b[39m.\u001b[39;49munits,\n\u001b[0;32m    246\u001b[0m                             seed\u001b[39m=\u001b[39;49m\u001b[39mself\u001b[39;49m\u001b[39m.\u001b[39;49mseed)\u001b[39m.\u001b[39mT\n\u001b[0;32m    247\u001b[0m yhat_boots \u001b[39m=\u001b[39m grid\u001b[39m.\u001b[39mdot(beta_boots)\u001b[39m.\u001b[39mT\n\u001b[0;32m    248\u001b[0m \u001b[39mreturn\u001b[39;00m yhat, yhat_boots\n",
      "File \u001b[1;32mc:\\Users\\taraz\\anaconda3\\lib\\site-packages\\seaborn\\algorithms.py:85\u001b[0m, in \u001b[0;36mbootstrap\u001b[1;34m(*args, **kwargs)\u001b[0m\n\u001b[0;32m     83\u001b[0m     resampler \u001b[39m=\u001b[39m integers(\u001b[39m0\u001b[39m, n, n, dtype\u001b[39m=\u001b[39mnp\u001b[39m.\u001b[39mintp)  \u001b[39m# intp is indexing dtype\u001b[39;00m\n\u001b[0;32m     84\u001b[0m     sample \u001b[39m=\u001b[39m [a\u001b[39m.\u001b[39mtake(resampler, axis\u001b[39m=\u001b[39m\u001b[39m0\u001b[39m) \u001b[39mfor\u001b[39;00m a \u001b[39min\u001b[39;00m args]\n\u001b[1;32m---> 85\u001b[0m     boot_dist\u001b[39m.\u001b[39mappend(f(\u001b[39m*\u001b[39msample, \u001b[39m*\u001b[39m\u001b[39m*\u001b[39mfunc_kwargs))\n\u001b[0;32m     86\u001b[0m \u001b[39mreturn\u001b[39;00m np\u001b[39m.\u001b[39marray(boot_dist)\n",
      "File \u001b[1;32mc:\\Users\\taraz\\anaconda3\\lib\\site-packages\\seaborn\\regression.py:234\u001b[0m, in \u001b[0;36m_RegressionPlotter.fit_fast.<locals>.reg_func\u001b[1;34m(_x, _y)\u001b[0m\n\u001b[0;32m    233\u001b[0m \u001b[39mdef\u001b[39;00m \u001b[39mreg_func\u001b[39m(_x, _y):\n\u001b[1;32m--> 234\u001b[0m     \u001b[39mreturn\u001b[39;00m np\u001b[39m.\u001b[39;49mlinalg\u001b[39m.\u001b[39;49mpinv(_x)\u001b[39m.\u001b[39mdot(_y)\n",
      "File \u001b[1;32m<__array_function__ internals>:5\u001b[0m, in \u001b[0;36mpinv\u001b[1;34m(*args, **kwargs)\u001b[0m\n",
      "File \u001b[1;32mc:\\Users\\taraz\\anaconda3\\lib\\site-packages\\numpy\\linalg\\linalg.py:2002\u001b[0m, in \u001b[0;36mpinv\u001b[1;34m(a, rcond, hermitian)\u001b[0m\n\u001b[0;32m   2000\u001b[0m     \u001b[39mreturn\u001b[39;00m wrap(res)\n\u001b[0;32m   2001\u001b[0m a \u001b[39m=\u001b[39m a\u001b[39m.\u001b[39mconjugate()\n\u001b[1;32m-> 2002\u001b[0m u, s, vt \u001b[39m=\u001b[39m svd(a, full_matrices\u001b[39m=\u001b[39;49m\u001b[39mFalse\u001b[39;49;00m, hermitian\u001b[39m=\u001b[39;49mhermitian)\n\u001b[0;32m   2004\u001b[0m \u001b[39m# discard small singular values\u001b[39;00m\n\u001b[0;32m   2005\u001b[0m cutoff \u001b[39m=\u001b[39m rcond[\u001b[39m.\u001b[39m\u001b[39m.\u001b[39m\u001b[39m.\u001b[39m, newaxis] \u001b[39m*\u001b[39m amax(s, axis\u001b[39m=\u001b[39m\u001b[39m-\u001b[39m\u001b[39m1\u001b[39m, keepdims\u001b[39m=\u001b[39m\u001b[39mTrue\u001b[39;00m)\n",
      "File \u001b[1;32m<__array_function__ internals>:5\u001b[0m, in \u001b[0;36msvd\u001b[1;34m(*args, **kwargs)\u001b[0m\n",
      "File \u001b[1;32mc:\\Users\\taraz\\anaconda3\\lib\\site-packages\\numpy\\linalg\\linalg.py:1660\u001b[0m, in \u001b[0;36msvd\u001b[1;34m(a, full_matrices, compute_uv, hermitian)\u001b[0m\n\u001b[0;32m   1657\u001b[0m         gufunc \u001b[39m=\u001b[39m _umath_linalg\u001b[39m.\u001b[39msvd_n_s\n\u001b[0;32m   1659\u001b[0m signature \u001b[39m=\u001b[39m \u001b[39m'\u001b[39m\u001b[39mD->DdD\u001b[39m\u001b[39m'\u001b[39m \u001b[39mif\u001b[39;00m isComplexType(t) \u001b[39melse\u001b[39;00m \u001b[39m'\u001b[39m\u001b[39md->ddd\u001b[39m\u001b[39m'\u001b[39m\n\u001b[1;32m-> 1660\u001b[0m u, s, vh \u001b[39m=\u001b[39m gufunc(a, signature\u001b[39m=\u001b[39;49msignature, extobj\u001b[39m=\u001b[39;49mextobj)\n\u001b[0;32m   1661\u001b[0m u \u001b[39m=\u001b[39m u\u001b[39m.\u001b[39mastype(result_t, copy\u001b[39m=\u001b[39m\u001b[39mFalse\u001b[39;00m)\n\u001b[0;32m   1662\u001b[0m s \u001b[39m=\u001b[39m s\u001b[39m.\u001b[39mastype(_realType(result_t), copy\u001b[39m=\u001b[39m\u001b[39mFalse\u001b[39;00m)\n",
      "\u001b[1;31mKeyboardInterrupt\u001b[0m: "
     ]
    },
    {
     "name": "stdout",
     "output_type": "stream",
     "text": [
      "Error in callback <function flush_figures at 0x000001C1F5777AF0> (for post_execute):\n"
     ]
    },
    {
     "ename": "KeyboardInterrupt",
     "evalue": "",
     "output_type": "error",
     "traceback": [
      "\u001b[1;31m---------------------------------------------------------------------------\u001b[0m",
      "\u001b[1;31mKeyboardInterrupt\u001b[0m                         Traceback (most recent call last)",
      "File \u001b[1;32mc:\\Users\\taraz\\anaconda3\\lib\\site-packages\\matplotlib_inline\\backend_inline.py:121\u001b[0m, in \u001b[0;36mflush_figures\u001b[1;34m()\u001b[0m\n\u001b[0;32m    118\u001b[0m \u001b[39mif\u001b[39;00m InlineBackend\u001b[39m.\u001b[39minstance()\u001b[39m.\u001b[39mclose_figures:\n\u001b[0;32m    119\u001b[0m     \u001b[39m# ignore the tracking, just draw and close all figures\u001b[39;00m\n\u001b[0;32m    120\u001b[0m     \u001b[39mtry\u001b[39;00m:\n\u001b[1;32m--> 121\u001b[0m         \u001b[39mreturn\u001b[39;00m show(\u001b[39mTrue\u001b[39;49;00m)\n\u001b[0;32m    122\u001b[0m     \u001b[39mexcept\u001b[39;00m \u001b[39mException\u001b[39;00m \u001b[39mas\u001b[39;00m e:\n\u001b[0;32m    123\u001b[0m         \u001b[39m# safely show traceback if in IPython, else raise\u001b[39;00m\n\u001b[0;32m    124\u001b[0m         ip \u001b[39m=\u001b[39m get_ipython()\n",
      "File \u001b[1;32mc:\\Users\\taraz\\anaconda3\\lib\\site-packages\\matplotlib_inline\\backend_inline.py:41\u001b[0m, in \u001b[0;36mshow\u001b[1;34m(close, block)\u001b[0m\n\u001b[0;32m     39\u001b[0m \u001b[39mtry\u001b[39;00m:\n\u001b[0;32m     40\u001b[0m     \u001b[39mfor\u001b[39;00m figure_manager \u001b[39min\u001b[39;00m Gcf\u001b[39m.\u001b[39mget_all_fig_managers():\n\u001b[1;32m---> 41\u001b[0m         display(\n\u001b[0;32m     42\u001b[0m             figure_manager\u001b[39m.\u001b[39;49mcanvas\u001b[39m.\u001b[39;49mfigure,\n\u001b[0;32m     43\u001b[0m             metadata\u001b[39m=\u001b[39;49m_fetch_figure_metadata(figure_manager\u001b[39m.\u001b[39;49mcanvas\u001b[39m.\u001b[39;49mfigure)\n\u001b[0;32m     44\u001b[0m         )\n\u001b[0;32m     45\u001b[0m \u001b[39mfinally\u001b[39;00m:\n\u001b[0;32m     46\u001b[0m     show\u001b[39m.\u001b[39m_to_draw \u001b[39m=\u001b[39m []\n",
      "File \u001b[1;32mc:\\Users\\taraz\\anaconda3\\lib\\site-packages\\IPython\\core\\display_functions.py:298\u001b[0m, in \u001b[0;36mdisplay\u001b[1;34m(include, exclude, metadata, transient, display_id, raw, clear, *objs, **kwargs)\u001b[0m\n\u001b[0;32m    296\u001b[0m     publish_display_data(data\u001b[39m=\u001b[39mobj, metadata\u001b[39m=\u001b[39mmetadata, \u001b[39m*\u001b[39m\u001b[39m*\u001b[39mkwargs)\n\u001b[0;32m    297\u001b[0m \u001b[39melse\u001b[39;00m:\n\u001b[1;32m--> 298\u001b[0m     format_dict, md_dict \u001b[39m=\u001b[39m \u001b[39mformat\u001b[39;49m(obj, include\u001b[39m=\u001b[39;49minclude, exclude\u001b[39m=\u001b[39;49mexclude)\n\u001b[0;32m    299\u001b[0m     \u001b[39mif\u001b[39;00m \u001b[39mnot\u001b[39;00m format_dict:\n\u001b[0;32m    300\u001b[0m         \u001b[39m# nothing to display (e.g. _ipython_display_ took over)\u001b[39;00m\n\u001b[0;32m    301\u001b[0m         \u001b[39mcontinue\u001b[39;00m\n",
      "File \u001b[1;32mc:\\Users\\taraz\\anaconda3\\lib\\site-packages\\IPython\\core\\formatters.py:178\u001b[0m, in \u001b[0;36mDisplayFormatter.format\u001b[1;34m(self, obj, include, exclude)\u001b[0m\n\u001b[0;32m    176\u001b[0m md \u001b[39m=\u001b[39m \u001b[39mNone\u001b[39;00m\n\u001b[0;32m    177\u001b[0m \u001b[39mtry\u001b[39;00m:\n\u001b[1;32m--> 178\u001b[0m     data \u001b[39m=\u001b[39m formatter(obj)\n\u001b[0;32m    179\u001b[0m \u001b[39mexcept\u001b[39;00m:\n\u001b[0;32m    180\u001b[0m     \u001b[39m# FIXME: log the exception\u001b[39;00m\n\u001b[0;32m    181\u001b[0m     \u001b[39mraise\u001b[39;00m\n",
      "File \u001b[1;32mc:\\Users\\taraz\\anaconda3\\lib\\site-packages\\decorator.py:232\u001b[0m, in \u001b[0;36mdecorate.<locals>.fun\u001b[1;34m(*args, **kw)\u001b[0m\n\u001b[0;32m    230\u001b[0m \u001b[39mif\u001b[39;00m \u001b[39mnot\u001b[39;00m kwsyntax:\n\u001b[0;32m    231\u001b[0m     args, kw \u001b[39m=\u001b[39m fix(args, kw, sig)\n\u001b[1;32m--> 232\u001b[0m \u001b[39mreturn\u001b[39;00m caller(func, \u001b[39m*\u001b[39m(extras \u001b[39m+\u001b[39m args), \u001b[39m*\u001b[39m\u001b[39m*\u001b[39mkw)\n",
      "File \u001b[1;32mc:\\Users\\taraz\\anaconda3\\lib\\site-packages\\IPython\\core\\formatters.py:222\u001b[0m, in \u001b[0;36mcatch_format_error\u001b[1;34m(method, self, *args, **kwargs)\u001b[0m\n\u001b[0;32m    220\u001b[0m \u001b[39m\"\"\"show traceback on failed format call\"\"\"\u001b[39;00m\n\u001b[0;32m    221\u001b[0m \u001b[39mtry\u001b[39;00m:\n\u001b[1;32m--> 222\u001b[0m     r \u001b[39m=\u001b[39m method(\u001b[39mself\u001b[39m, \u001b[39m*\u001b[39margs, \u001b[39m*\u001b[39m\u001b[39m*\u001b[39mkwargs)\n\u001b[0;32m    223\u001b[0m \u001b[39mexcept\u001b[39;00m \u001b[39mNotImplementedError\u001b[39;00m:\n\u001b[0;32m    224\u001b[0m     \u001b[39m# don't warn on NotImplementedErrors\u001b[39;00m\n\u001b[0;32m    225\u001b[0m     \u001b[39mreturn\u001b[39;00m \u001b[39mself\u001b[39m\u001b[39m.\u001b[39m_check_return(\u001b[39mNone\u001b[39;00m, args[\u001b[39m0\u001b[39m])\n",
      "File \u001b[1;32mc:\\Users\\taraz\\anaconda3\\lib\\site-packages\\IPython\\core\\formatters.py:339\u001b[0m, in \u001b[0;36mBaseFormatter.__call__\u001b[1;34m(self, obj)\u001b[0m\n\u001b[0;32m    337\u001b[0m     \u001b[39mpass\u001b[39;00m\n\u001b[0;32m    338\u001b[0m \u001b[39melse\u001b[39;00m:\n\u001b[1;32m--> 339\u001b[0m     \u001b[39mreturn\u001b[39;00m printer(obj)\n\u001b[0;32m    340\u001b[0m \u001b[39m# Finally look for special method names\u001b[39;00m\n\u001b[0;32m    341\u001b[0m method \u001b[39m=\u001b[39m get_real_method(obj, \u001b[39mself\u001b[39m\u001b[39m.\u001b[39mprint_method)\n",
      "File \u001b[1;32mc:\\Users\\taraz\\anaconda3\\lib\\site-packages\\IPython\\core\\pylabtools.py:151\u001b[0m, in \u001b[0;36mprint_figure\u001b[1;34m(fig, fmt, bbox_inches, base64, **kwargs)\u001b[0m\n\u001b[0;32m    148\u001b[0m     \u001b[39mfrom\u001b[39;00m \u001b[39mmatplotlib\u001b[39;00m\u001b[39m.\u001b[39;00m\u001b[39mbackend_bases\u001b[39;00m \u001b[39mimport\u001b[39;00m FigureCanvasBase\n\u001b[0;32m    149\u001b[0m     FigureCanvasBase(fig)\n\u001b[1;32m--> 151\u001b[0m fig\u001b[39m.\u001b[39mcanvas\u001b[39m.\u001b[39mprint_figure(bytes_io, \u001b[39m*\u001b[39m\u001b[39m*\u001b[39mkw)\n\u001b[0;32m    152\u001b[0m data \u001b[39m=\u001b[39m bytes_io\u001b[39m.\u001b[39mgetvalue()\n\u001b[0;32m    153\u001b[0m \u001b[39mif\u001b[39;00m fmt \u001b[39m==\u001b[39m \u001b[39m'\u001b[39m\u001b[39msvg\u001b[39m\u001b[39m'\u001b[39m:\n",
      "File \u001b[1;32mc:\\Users\\taraz\\anaconda3\\lib\\site-packages\\matplotlib\\backend_bases.py:2299\u001b[0m, in \u001b[0;36mFigureCanvasBase.print_figure\u001b[1;34m(self, filename, dpi, facecolor, edgecolor, orientation, format, bbox_inches, pad_inches, bbox_extra_artists, backend, **kwargs)\u001b[0m\n\u001b[0;32m   2297\u001b[0m \u001b[39mif\u001b[39;00m bbox_inches:\n\u001b[0;32m   2298\u001b[0m     \u001b[39mif\u001b[39;00m bbox_inches \u001b[39m==\u001b[39m \u001b[39m\"\u001b[39m\u001b[39mtight\u001b[39m\u001b[39m\"\u001b[39m:\n\u001b[1;32m-> 2299\u001b[0m         bbox_inches \u001b[39m=\u001b[39m \u001b[39mself\u001b[39;49m\u001b[39m.\u001b[39;49mfigure\u001b[39m.\u001b[39;49mget_tightbbox(\n\u001b[0;32m   2300\u001b[0m             renderer, bbox_extra_artists\u001b[39m=\u001b[39;49mbbox_extra_artists)\n\u001b[0;32m   2301\u001b[0m         \u001b[39mif\u001b[39;00m pad_inches \u001b[39mis\u001b[39;00m \u001b[39mNone\u001b[39;00m:\n\u001b[0;32m   2302\u001b[0m             pad_inches \u001b[39m=\u001b[39m rcParams[\u001b[39m'\u001b[39m\u001b[39msavefig.pad_inches\u001b[39m\u001b[39m'\u001b[39m]\n",
      "File \u001b[1;32mc:\\Users\\taraz\\anaconda3\\lib\\site-packages\\matplotlib\\figure.py:1632\u001b[0m, in \u001b[0;36mFigureBase.get_tightbbox\u001b[1;34m(self, renderer, bbox_extra_artists)\u001b[0m\n\u001b[0;32m   1629\u001b[0m     artists \u001b[39m=\u001b[39m bbox_extra_artists\n\u001b[0;32m   1631\u001b[0m \u001b[39mfor\u001b[39;00m a \u001b[39min\u001b[39;00m artists:\n\u001b[1;32m-> 1632\u001b[0m     bbox \u001b[39m=\u001b[39m a\u001b[39m.\u001b[39;49mget_tightbbox(renderer)\n\u001b[0;32m   1633\u001b[0m     \u001b[39mif\u001b[39;00m bbox \u001b[39mis\u001b[39;00m \u001b[39mnot\u001b[39;00m \u001b[39mNone\u001b[39;00m \u001b[39mand\u001b[39;00m (bbox\u001b[39m.\u001b[39mwidth \u001b[39m!=\u001b[39m \u001b[39m0\u001b[39m \u001b[39mor\u001b[39;00m bbox\u001b[39m.\u001b[39mheight \u001b[39m!=\u001b[39m \u001b[39m0\u001b[39m):\n\u001b[0;32m   1634\u001b[0m         bb\u001b[39m.\u001b[39mappend(bbox)\n",
      "File \u001b[1;32mc:\\Users\\taraz\\anaconda3\\lib\\site-packages\\matplotlib\\axis.py:1105\u001b[0m, in \u001b[0;36mAxis.get_tightbbox\u001b[1;34m(self, renderer, for_layout_only)\u001b[0m\n\u001b[0;32m   1101\u001b[0m     \u001b[39mreturn\u001b[39;00m\n\u001b[0;32m   1103\u001b[0m ticks_to_draw \u001b[39m=\u001b[39m \u001b[39mself\u001b[39m\u001b[39m.\u001b[39m_update_ticks()\n\u001b[1;32m-> 1105\u001b[0m \u001b[39mself\u001b[39;49m\u001b[39m.\u001b[39;49m_update_label_position(renderer)\n\u001b[0;32m   1107\u001b[0m \u001b[39m# go back to just this axis's tick labels\u001b[39;00m\n\u001b[0;32m   1108\u001b[0m ticklabelBoxes, ticklabelBoxes2 \u001b[39m=\u001b[39m \u001b[39mself\u001b[39m\u001b[39m.\u001b[39m_get_tick_bboxes(\n\u001b[0;32m   1109\u001b[0m             ticks_to_draw, renderer)\n",
      "File \u001b[1;32mc:\\Users\\taraz\\anaconda3\\lib\\site-packages\\matplotlib\\axis.py:2083\u001b[0m, in \u001b[0;36mXAxis._update_label_position\u001b[1;34m(self, renderer)\u001b[0m\n\u001b[0;32m   2079\u001b[0m     \u001b[39mreturn\u001b[39;00m\n\u001b[0;32m   2081\u001b[0m \u001b[39m# get bounding boxes for this axis and any siblings\u001b[39;00m\n\u001b[0;32m   2082\u001b[0m \u001b[39m# that have been set by `fig.align_xlabels()`\u001b[39;00m\n\u001b[1;32m-> 2083\u001b[0m bboxes, bboxes2 \u001b[39m=\u001b[39m \u001b[39mself\u001b[39;49m\u001b[39m.\u001b[39;49m_get_tick_boxes_siblings(renderer\u001b[39m=\u001b[39;49mrenderer)\n\u001b[0;32m   2085\u001b[0m x, y \u001b[39m=\u001b[39m \u001b[39mself\u001b[39m\u001b[39m.\u001b[39mlabel\u001b[39m.\u001b[39mget_position()\n\u001b[0;32m   2086\u001b[0m \u001b[39mif\u001b[39;00m \u001b[39mself\u001b[39m\u001b[39m.\u001b[39mlabel_position \u001b[39m==\u001b[39m \u001b[39m'\u001b[39m\u001b[39mbottom\u001b[39m\u001b[39m'\u001b[39m:\n",
      "File \u001b[1;32mc:\\Users\\taraz\\anaconda3\\lib\\site-packages\\matplotlib\\axis.py:1880\u001b[0m, in \u001b[0;36mAxis._get_tick_boxes_siblings\u001b[1;34m(self, renderer)\u001b[0m\n\u001b[0;32m   1878\u001b[0m \u001b[39mfor\u001b[39;00m ax \u001b[39min\u001b[39;00m grouper\u001b[39m.\u001b[39mget_siblings(\u001b[39mself\u001b[39m\u001b[39m.\u001b[39maxes):\n\u001b[0;32m   1879\u001b[0m     axis \u001b[39m=\u001b[39m \u001b[39mgetattr\u001b[39m(ax, \u001b[39mf\u001b[39m\u001b[39m\"\u001b[39m\u001b[39m{\u001b[39;00maxis_name\u001b[39m}\u001b[39;00m\u001b[39maxis\u001b[39m\u001b[39m\"\u001b[39m)\n\u001b[1;32m-> 1880\u001b[0m     ticks_to_draw \u001b[39m=\u001b[39m axis\u001b[39m.\u001b[39;49m_update_ticks()\n\u001b[0;32m   1881\u001b[0m     tlb, tlb2 \u001b[39m=\u001b[39m axis\u001b[39m.\u001b[39m_get_tick_bboxes(ticks_to_draw, renderer)\n\u001b[0;32m   1882\u001b[0m     bboxes\u001b[39m.\u001b[39mextend(tlb)\n",
      "File \u001b[1;32mc:\\Users\\taraz\\anaconda3\\lib\\site-packages\\matplotlib\\axis.py:1053\u001b[0m, in \u001b[0;36mAxis._update_ticks\u001b[1;34m(self)\u001b[0m\n\u001b[0;32m   1051\u001b[0m     tick\u001b[39m.\u001b[39mset_label1(label)\n\u001b[0;32m   1052\u001b[0m     tick\u001b[39m.\u001b[39mset_label2(label)\n\u001b[1;32m-> 1053\u001b[0m minor_locs \u001b[39m=\u001b[39m \u001b[39mself\u001b[39;49m\u001b[39m.\u001b[39;49mget_minorticklocs()\n\u001b[0;32m   1054\u001b[0m minor_labels \u001b[39m=\u001b[39m \u001b[39mself\u001b[39m\u001b[39m.\u001b[39mminor\u001b[39m.\u001b[39mformatter\u001b[39m.\u001b[39mformat_ticks(minor_locs)\n\u001b[0;32m   1055\u001b[0m minor_ticks \u001b[39m=\u001b[39m \u001b[39mself\u001b[39m\u001b[39m.\u001b[39mget_minor_ticks(\u001b[39mlen\u001b[39m(minor_locs))\n",
      "File \u001b[1;32mc:\\Users\\taraz\\anaconda3\\lib\\site-packages\\matplotlib\\axis.py:1282\u001b[0m, in \u001b[0;36mAxis.get_minorticklocs\u001b[1;34m(self)\u001b[0m\n\u001b[0;32m   1280\u001b[0m \u001b[39m\"\"\"Return this Axis' minor tick locations in data coordinates.\"\"\"\u001b[39;00m\n\u001b[0;32m   1281\u001b[0m \u001b[39m# Remove minor ticks duplicating major ticks.\u001b[39;00m\n\u001b[1;32m-> 1282\u001b[0m major_locs \u001b[39m=\u001b[39m \u001b[39mself\u001b[39;49m\u001b[39m.\u001b[39;49mmajor\u001b[39m.\u001b[39;49mlocator()\n\u001b[0;32m   1283\u001b[0m minor_locs \u001b[39m=\u001b[39m \u001b[39mself\u001b[39m\u001b[39m.\u001b[39mminor\u001b[39m.\u001b[39mlocator()\n\u001b[0;32m   1284\u001b[0m transform \u001b[39m=\u001b[39m \u001b[39mself\u001b[39m\u001b[39m.\u001b[39m_scale\u001b[39m.\u001b[39mget_transform()\n",
      "File \u001b[1;32mc:\\Users\\taraz\\anaconda3\\lib\\site-packages\\matplotlib\\ticker.py:2114\u001b[0m, in \u001b[0;36mMaxNLocator.__call__\u001b[1;34m(self)\u001b[0m\n\u001b[0;32m   2112\u001b[0m \u001b[39mdef\u001b[39;00m \u001b[39m__call__\u001b[39m(\u001b[39mself\u001b[39m):\n\u001b[0;32m   2113\u001b[0m     vmin, vmax \u001b[39m=\u001b[39m \u001b[39mself\u001b[39m\u001b[39m.\u001b[39maxis\u001b[39m.\u001b[39mget_view_interval()\n\u001b[1;32m-> 2114\u001b[0m     \u001b[39mreturn\u001b[39;00m \u001b[39mself\u001b[39;49m\u001b[39m.\u001b[39;49mtick_values(vmin, vmax)\n",
      "File \u001b[1;32mc:\\Users\\taraz\\anaconda3\\lib\\site-packages\\matplotlib\\ticker.py:2122\u001b[0m, in \u001b[0;36mMaxNLocator.tick_values\u001b[1;34m(self, vmin, vmax)\u001b[0m\n\u001b[0;32m   2119\u001b[0m     vmin \u001b[39m=\u001b[39m \u001b[39m-\u001b[39mvmax\n\u001b[0;32m   2120\u001b[0m vmin, vmax \u001b[39m=\u001b[39m mtransforms\u001b[39m.\u001b[39mnonsingular(\n\u001b[0;32m   2121\u001b[0m     vmin, vmax, expander\u001b[39m=\u001b[39m\u001b[39m1e-13\u001b[39m, tiny\u001b[39m=\u001b[39m\u001b[39m1e-14\u001b[39m)\n\u001b[1;32m-> 2122\u001b[0m locs \u001b[39m=\u001b[39m \u001b[39mself\u001b[39;49m\u001b[39m.\u001b[39;49m_raw_ticks(vmin, vmax)\n\u001b[0;32m   2124\u001b[0m prune \u001b[39m=\u001b[39m \u001b[39mself\u001b[39m\u001b[39m.\u001b[39m_prune\n\u001b[0;32m   2125\u001b[0m \u001b[39mif\u001b[39;00m prune \u001b[39m==\u001b[39m \u001b[39m'\u001b[39m\u001b[39mlower\u001b[39m\u001b[39m'\u001b[39m:\n",
      "File \u001b[1;32mc:\\Users\\taraz\\anaconda3\\lib\\site-packages\\matplotlib\\ticker.py:2061\u001b[0m, in \u001b[0;36mMaxNLocator._raw_ticks\u001b[1;34m(self, vmin, vmax)\u001b[0m\n\u001b[0;32m   2059\u001b[0m \u001b[39mif\u001b[39;00m \u001b[39mself\u001b[39m\u001b[39m.\u001b[39m_nbins \u001b[39m==\u001b[39m \u001b[39m'\u001b[39m\u001b[39mauto\u001b[39m\u001b[39m'\u001b[39m:\n\u001b[0;32m   2060\u001b[0m     \u001b[39mif\u001b[39;00m \u001b[39mself\u001b[39m\u001b[39m.\u001b[39maxis \u001b[39mis\u001b[39;00m \u001b[39mnot\u001b[39;00m \u001b[39mNone\u001b[39;00m:\n\u001b[1;32m-> 2061\u001b[0m         nbins \u001b[39m=\u001b[39m np\u001b[39m.\u001b[39mclip(\u001b[39mself\u001b[39;49m\u001b[39m.\u001b[39;49maxis\u001b[39m.\u001b[39;49mget_tick_space(),\n\u001b[0;32m   2062\u001b[0m                         \u001b[39mmax\u001b[39m(\u001b[39m1\u001b[39m, \u001b[39mself\u001b[39m\u001b[39m.\u001b[39m_min_n_ticks \u001b[39m-\u001b[39m \u001b[39m1\u001b[39m), \u001b[39m9\u001b[39m)\n\u001b[0;32m   2063\u001b[0m     \u001b[39melse\u001b[39;00m:\n\u001b[0;32m   2064\u001b[0m         nbins \u001b[39m=\u001b[39m \u001b[39m9\u001b[39m\n",
      "File \u001b[1;32mc:\\Users\\taraz\\anaconda3\\lib\\site-packages\\matplotlib\\axis.py:2263\u001b[0m, in \u001b[0;36mXAxis.get_tick_space\u001b[1;34m(self)\u001b[0m\n\u001b[0;32m   2261\u001b[0m \u001b[39mdef\u001b[39;00m \u001b[39mget_tick_space\u001b[39m(\u001b[39mself\u001b[39m):\n\u001b[0;32m   2262\u001b[0m     ends \u001b[39m=\u001b[39m mtransforms\u001b[39m.\u001b[39mBbox\u001b[39m.\u001b[39mfrom_bounds(\u001b[39m0\u001b[39m, \u001b[39m0\u001b[39m, \u001b[39m1\u001b[39m, \u001b[39m1\u001b[39m)\n\u001b[1;32m-> 2263\u001b[0m     ends \u001b[39m=\u001b[39m ends\u001b[39m.\u001b[39;49mtransformed(\u001b[39mself\u001b[39;49m\u001b[39m.\u001b[39;49maxes\u001b[39m.\u001b[39;49mtransAxes \u001b[39m-\u001b[39;49m\n\u001b[0;32m   2264\u001b[0m                             \u001b[39mself\u001b[39;49m\u001b[39m.\u001b[39;49mfigure\u001b[39m.\u001b[39;49mdpi_scale_trans)\n\u001b[0;32m   2265\u001b[0m     length \u001b[39m=\u001b[39m ends\u001b[39m.\u001b[39mwidth \u001b[39m*\u001b[39m \u001b[39m72\u001b[39m\n\u001b[0;32m   2266\u001b[0m     \u001b[39m# There is a heuristic here that the aspect ratio of tick text\u001b[39;00m\n\u001b[0;32m   2267\u001b[0m     \u001b[39m# is no more than 3:1\u001b[39;00m\n",
      "File \u001b[1;32mc:\\Users\\taraz\\anaconda3\\lib\\site-packages\\matplotlib\\transforms.py:492\u001b[0m, in \u001b[0;36mBboxBase.transformed\u001b[1;34m(self, transform)\u001b[0m\n\u001b[0;32m    488\u001b[0m \u001b[39m\"\"\"\u001b[39;00m\n\u001b[0;32m    489\u001b[0m \u001b[39mConstruct a `Bbox` by statically transforming this one by *transform*.\u001b[39;00m\n\u001b[0;32m    490\u001b[0m \u001b[39m\"\"\"\u001b[39;00m\n\u001b[0;32m    491\u001b[0m pts \u001b[39m=\u001b[39m \u001b[39mself\u001b[39m\u001b[39m.\u001b[39mget_points()\n\u001b[1;32m--> 492\u001b[0m ll, ul, lr \u001b[39m=\u001b[39m transform\u001b[39m.\u001b[39;49mtransform(np\u001b[39m.\u001b[39;49marray(\n\u001b[0;32m    493\u001b[0m     [pts[\u001b[39m0\u001b[39;49m], [pts[\u001b[39m0\u001b[39;49m, \u001b[39m0\u001b[39;49m], pts[\u001b[39m1\u001b[39;49m, \u001b[39m1\u001b[39;49m]], [pts[\u001b[39m1\u001b[39;49m, \u001b[39m0\u001b[39;49m], pts[\u001b[39m0\u001b[39;49m, \u001b[39m1\u001b[39;49m]]]))\n\u001b[0;32m    494\u001b[0m \u001b[39mreturn\u001b[39;00m Bbox([ll, [lr[\u001b[39m0\u001b[39m], ul[\u001b[39m1\u001b[39m]]])\n",
      "File \u001b[1;32mc:\\Users\\taraz\\anaconda3\\lib\\site-packages\\matplotlib\\transforms.py:1503\u001b[0m, in \u001b[0;36mTransform.transform\u001b[1;34m(self, values)\u001b[0m\n\u001b[0;32m   1500\u001b[0m values \u001b[39m=\u001b[39m values\u001b[39m.\u001b[39mreshape((\u001b[39m-\u001b[39m\u001b[39m1\u001b[39m, \u001b[39mself\u001b[39m\u001b[39m.\u001b[39minput_dims))\n\u001b[0;32m   1502\u001b[0m \u001b[39m# Transform the values\u001b[39;00m\n\u001b[1;32m-> 1503\u001b[0m res \u001b[39m=\u001b[39m \u001b[39mself\u001b[39;49m\u001b[39m.\u001b[39;49mtransform_affine(\u001b[39mself\u001b[39;49m\u001b[39m.\u001b[39;49mtransform_non_affine(values))\n\u001b[0;32m   1505\u001b[0m \u001b[39m# Convert the result back to the shape of the input values.\u001b[39;00m\n\u001b[0;32m   1506\u001b[0m \u001b[39mif\u001b[39;00m ndim \u001b[39m==\u001b[39m \u001b[39m0\u001b[39m:\n",
      "File \u001b[1;32mc:\\Users\\taraz\\anaconda3\\lib\\site-packages\\matplotlib\\transforms.py:2419\u001b[0m, in \u001b[0;36mCompositeGenericTransform.transform_affine\u001b[1;34m(self, points)\u001b[0m\n\u001b[0;32m   2417\u001b[0m \u001b[39mdef\u001b[39;00m \u001b[39mtransform_affine\u001b[39m(\u001b[39mself\u001b[39m, points):\n\u001b[0;32m   2418\u001b[0m     \u001b[39m# docstring inherited\u001b[39;00m\n\u001b[1;32m-> 2419\u001b[0m     \u001b[39mreturn\u001b[39;00m \u001b[39mself\u001b[39;49m\u001b[39m.\u001b[39;49mget_affine()\u001b[39m.\u001b[39mtransform(points)\n",
      "File \u001b[1;32mc:\\Users\\taraz\\anaconda3\\lib\\site-packages\\matplotlib\\transforms.py:2446\u001b[0m, in \u001b[0;36mCompositeGenericTransform.get_affine\u001b[1;34m(self)\u001b[0m\n\u001b[0;32m   2444\u001b[0m     \u001b[39mreturn\u001b[39;00m \u001b[39mself\u001b[39m\u001b[39m.\u001b[39m_b\u001b[39m.\u001b[39mget_affine()\n\u001b[0;32m   2445\u001b[0m \u001b[39melse\u001b[39;00m:\n\u001b[1;32m-> 2446\u001b[0m     \u001b[39mreturn\u001b[39;00m Affine2D(np\u001b[39m.\u001b[39;49mdot(\u001b[39mself\u001b[39;49m\u001b[39m.\u001b[39;49m_b\u001b[39m.\u001b[39;49mget_affine()\u001b[39m.\u001b[39;49mget_matrix(),\n\u001b[0;32m   2447\u001b[0m                            \u001b[39mself\u001b[39;49m\u001b[39m.\u001b[39;49m_a\u001b[39m.\u001b[39;49mget_affine()\u001b[39m.\u001b[39;49mget_matrix()))\n",
      "File \u001b[1;32m<__array_function__ internals>:5\u001b[0m, in \u001b[0;36mdot\u001b[1;34m(*args, **kwargs)\u001b[0m\n",
      "\u001b[1;31mKeyboardInterrupt\u001b[0m: "
     ]
    }
   ],
   "source": [
    "sns.pairplot(df,dropna=True,hue=\"isDeveloped\",kind=\"reg\")\n",
    "plt.show()"
   ]
  },
  {
   "cell_type": "markdown",
   "metadata": {},
   "source": [
    "### Part 5: Calculate correlations (25pts)\n",
    "\n",
    "<ul>\n",
    "<li>5 points are for identifying and calculating 3 strongest correlations with life expectancy for each of developed and not developed. \n",
    "<li>10 points are for analyzing those correlations. Do they appear to be supported by reality? Do you have reason to beleive any are causal?\n",
    "<li>10 points are for identifying 2 places where developing and developed countries have a substantially different relationship with respect to life expectancy, and theorizing why. What would be needed to confirm your thoughts?\n",
    "</ul>\n",
    "\n",
    "<b>Please put your written parts in markdown cells, with a little formatting to make them readable. "
   ]
  },
  {
   "cell_type": "code",
   "execution_count": null,
   "metadata": {},
   "outputs": [],
   "source": [
    "#Calculate correlations and analyze. \n",
    "df3=df.apply(pd.to_numeric, errors='coerce')\n",
    "developed=df3[df3['isDeveloped']==1]\n",
    "developed = developed.drop(columns=[\"Country\",\"isDeveloped\"])\n",
    "developed = developed.corr()\n",
    "developed.head()"
   ]
  },
  {
   "cell_type": "code",
   "execution_count": null,
   "metadata": {},
   "outputs": [],
   "source": [
    "mask = np.triu(np.ones_like(developed, dtype=bool))\n",
    "sns.heatmap(developed, center=0, linewidths=.5, annot=True, cmap=\"YlGnBu\", yticklabels=True, mask=mask)\n",
    "plt.show()"
   ]
  },
  {
   "cell_type": "markdown",
   "metadata": {},
   "source": [
    "The lifexpectancy in developed countries is strongly correlated to 1)AdultMortality 2)HepetitisB 3)Measles \n",
    "These negative correlations seem to be supported by reality the lower the mortality the higher the lifeexpectancy. Lower Hepatitis B and Measles rate due to vacinations in developed countrie increase the lifeexpectancy of the population. "
   ]
  },
  {
   "cell_type": "code",
   "execution_count": null,
   "metadata": {},
   "outputs": [],
   "source": [
    "df3=df.apply(pd.to_numeric, errors='coerce')\n",
    "not_developed=df3[df3['isDeveloped']==0]\n",
    "not_developed = not_developed.drop(columns=[\"Country\",\"isDeveloped\"])\n",
    "not_developed = not_developed.corr()\n",
    "not_developed.head()"
   ]
  },
  {
   "cell_type": "code",
   "execution_count": null,
   "metadata": {},
   "outputs": [],
   "source": [
    "mask = np.triu(np.ones_like(not_developed, dtype=bool))\n",
    "sns.heatmap(not_developed, center=0, linewidths=.5, annot=True, cmap=\"YlGnBu\", yticklabels=True, mask=mask)\n",
    "plt.show()"
   ]
  },
  {
   "cell_type": "markdown",
   "metadata": {},
   "source": [
    "The lifexpectancy in developing countries is strongly corelated to 1)Adultmortality 2)Schooling 3)BMI\n",
    "These correlations defenitely make sense lower adultmortallity will result in higher lifeexpectancy. Several studes have asssociated more schooling with better health and longer life. So, it makes makes sence that individuals with higher schooling have longer lifeexpectancy. In developing countries low  BMIs may be the result of low quality diet and malnurishment which will reduce lifeexpectancy."
   ]
  },
  {
   "cell_type": "code",
   "execution_count": null,
   "metadata": {},
   "outputs": [],
   "source": [
    "developed_1=df[df['isDeveloped']==1]\n",
    "print(developed_1['BMI'].describe())\n",
    "developed_1['Schooling'].describe()"
   ]
  },
  {
   "cell_type": "code",
   "execution_count": null,
   "metadata": {},
   "outputs": [],
   "source": [
    "not_developed_1=df[df['isDeveloped']==0]\n",
    "print(not_developed_1['BMI'].describe())\n",
    "not_developed_1['Schooling'].describe()"
   ]
  },
  {
   "cell_type": "markdown",
   "metadata": {},
   "source": [
    "The 2 areas where developing and developed countries are sigificantly different are in regards to BMI and Schooling. The heatmap shows that lifeexpectancy is strongly correlated with BMI and Schooling in develping countries while there is no correlation in developed countries. The developed countries have BMIs that are in the morbidly obese ranges while the BMIs for developing countries contains the full spectrum from malnurishment to morbidly obese. Average schooling levels in developed countries includes some college education with the min not dropping below highschool diploma while in developing country education levels are way lower. Better education may be associated with making more money and better diet. We would need to investigte the influence education has on income and BMI in both developing and developed countries. \n"
   ]
  }
 ],
 "metadata": {
  "kernelspec": {
   "display_name": "Python 3.9.12 ('base')",
   "language": "python",
   "name": "python3"
  },
  "language_info": {
   "codemirror_mode": {
    "name": "ipython",
    "version": 3
   },
   "file_extension": ".py",
   "mimetype": "text/x-python",
   "name": "python",
   "nbconvert_exporter": "python",
   "pygments_lexer": "ipython3",
   "version": "3.9.12"
  },
  "orig_nbformat": 4,
  "vscode": {
   "interpreter": {
    "hash": "f49b311d837cdc5610aaa42e7d17bdec7b5ca2d09b36c852bd57f9468685896e"
   }
  }
 },
 "nbformat": 4,
 "nbformat_minor": 2
}
